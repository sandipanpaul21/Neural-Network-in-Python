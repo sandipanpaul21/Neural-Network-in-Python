{
  "nbformat": 4,
  "nbformat_minor": 0,
  "metadata": {
    "colab": {
      "name": "03_Code.ipynb",
      "provenance": [],
      "authorship_tag": "ABX9TyPWfB1NXxC9uoCJXymKBIZA",
      "include_colab_link": true
    },
    "kernelspec": {
      "name": "python3",
      "display_name": "Python 3"
    },
    "language_info": {
      "name": "python"
    }
  },
  "cells": [
    {
      "cell_type": "markdown",
      "metadata": {
        "id": "view-in-github",
        "colab_type": "text"
      },
      "source": [
        "<a href=\"https://colab.research.google.com/github/sandipanpaul21/Neural-Network-in-Python/blob/main/03_Code.ipynb\" target=\"_parent\"><img src=\"https://colab.research.google.com/assets/colab-badge.svg\" alt=\"Open In Colab\"/></a>"
      ]
    },
    {
      "cell_type": "markdown",
      "source": [
        "#### Adding Layers\n",
        "- At the moment, we have just one layer, which is effectively an output layer.\n",
        "- Let's create two layer network"
      ],
      "metadata": {
        "id": "HRS2brZikKXK"
      }
    },
    {
      "cell_type": "code",
      "execution_count": 2,
      "metadata": {
        "colab": {
          "base_uri": "https://localhost:8080/"
        },
        "id": "lcW6rlHUY8rm",
        "outputId": "a9826489-6c9c-4972-cded-6ea319afa67a"
      },
      "outputs": [
        {
          "output_type": "stream",
          "name": "stdout",
          "text": [
            "Single Layer Three Neuron Output\n",
            "[[41 20 23]\n",
            " [97 52 59]\n",
            " [41 20 23]]\n"
          ]
        }
      ],
      "source": [
        "# Single Layer Neural Network\n",
        "import numpy as np\n",
        "inputs = [[1,2,3,4],\n",
        "          [5,6,7,8],\n",
        "          [1,2,3,4]]\n",
        "\n",
        "weights = [[2,3,4,5],\n",
        "          [3,2,1,2],\n",
        "          [3,2,3,1]]\n",
        "\n",
        "biases = [1,2,3]\n",
        "\n",
        "output = np.dot(inputs,np.array(weights).T)+biases\n",
        "\n",
        "print(\"Single Layer Three Neuron Output\")\n",
        "print(output)"
      ]
    },
    {
      "cell_type": "code",
      "source": [
        "# Multiple Layer Neural Network\n",
        "\n",
        "inputs = [[1,2,3,4],\n",
        "          [5,6,7,8],\n",
        "          [1,2,3,4]]\n",
        "\n",
        "weights = [[2,3,4,5],\n",
        "          [3,2,1,2],\n",
        "          [3,2,3,1]]\n",
        "biases = [1,2,3]\n",
        "\n",
        "weights_2 = [[2,3,4],\n",
        "             [3,2,1],\n",
        "             [3,2,3]]\n",
        "biases_2 = [1,2,3]\n",
        "\n",
        "# For First Layer, Output = sum(weight*input) + weight\n",
        "layer1_output = np.dot(inputs,np.array(weights).T) + biases\n",
        "\n",
        "# For Second Layer, Layer1 Output will becomes Layer 2 Input\n",
        "layer2_output = np.dot(layer1_output,np.array(weights_2).T) + biases\n",
        "\n",
        "print(\"Layer 1 Output\")\n",
        "print(layer1_output)\n",
        "\n",
        "print(\"\\nLayer 2 Output\")\n",
        "print(layer2_output)"
      ],
      "metadata": {
        "colab": {
          "base_uri": "https://localhost:8080/"
        },
        "id": "EQ-RKtPXlE-b",
        "outputId": "d4e123ae-26ee-4600-b62f-de9d4eb8b88f"
      },
      "execution_count": 7,
      "outputs": [
        {
          "output_type": "stream",
          "name": "stdout",
          "text": [
            "Layer 1 Output\n",
            "[[41 20 23]\n",
            " [97 52 59]\n",
            " [41 20 23]]\n",
            "\n",
            "Layer 2 Output\n",
            "[[235 188 235]\n",
            " [587 456 575]\n",
            " [235 188 235]]\n"
          ]
        }
      ]
    },
    {
      "cell_type": "code",
      "source": [
        "# Lets create a sample Training Dataset (Random Set)\n",
        "import nnfs   # Will help to create random spiral dataset\n",
        "from nnfs.datasets import spiral_data\n",
        "\n",
        "nnfs.init()   # Will set random seed = 0, to make it repeatable\n",
        "X, Y = spiral_data(samples = 5,classes = 3)\n",
        "print(X,Y)    # 3 Clases created with 5 sample each"
      ],
      "metadata": {
        "colab": {
          "base_uri": "https://localhost:8080/"
        },
        "id": "ursGTrNtlohp",
        "outputId": "078b6c36-aa8f-4376-c693-c169d4910c71"
      },
      "execution_count": 18,
      "outputs": [
        {
          "output_type": "stream",
          "name": "stdout",
          "text": [
            "[[ 0.          0.        ]\n",
            " [ 0.1068272  -0.22602643]\n",
            " [-0.3565171   0.35056463]\n",
            " [ 0.54027534 -0.52019477]\n",
            " [-0.9980913  -0.06175594]\n",
            " [-0.         -0.        ]\n",
            " [ 0.09934813  0.22941218]\n",
            " [ 0.35293192 -0.35417378]\n",
            " [-0.73923534  0.12661397]\n",
            " [ 0.97696507  0.2133992 ]\n",
            " [ 0.          0.        ]\n",
            " [-0.23611835 -0.082147  ]\n",
            " [ 0.12262503  0.48472992]\n",
            " [ 0.49086097 -0.5670586 ]\n",
            " [-0.9298463   0.36794814]] [0 0 0 0 0 1 1 1 1 1 2 2 2 2 2]\n"
          ]
        }
      ]
    },
    {
      "cell_type": "code",
      "source": [
        "# Lets take bigger sample to visualize\n",
        "X, Y = spiral_data(samples = 100,classes = 3)\n",
        "import matplotlib.pyplot as plt\n",
        "plt.scatter(X[:,0],X[:,1],c=Y,cmap = 'brg')\n",
        "plt.show()"
      ],
      "metadata": {
        "colab": {
          "base_uri": "https://localhost:8080/",
          "height": 267
        },
        "id": "wyog7jL9mU-9",
        "outputId": "88cc3a5e-e838-4c4b-94ce-36d50bf49852"
      },
      "execution_count": 24,
      "outputs": [
        {
          "output_type": "display_data",
          "data": {
            "image/png": "[encoded data removed]",
            "text/plain": [
              "<Figure size 432x288 with 1 Axes>"
            ]
          },
          "metadata": {
            "needs_background": "light"
          }
        }
      ]
    },
    {
      "cell_type": "markdown",
      "source": [
        "#### Dense Layer Class\n",
        "\n",
        "- We used what’s called a ​dense​ or fully-connected​ layer. These layers are commonly referred to as “dense” layers in papers, literature, and code, but you will occasionally see them called fully-connected or “fc” for short in code. \n",
        "- Our dense layer class will begin with two methods.\n",
        "    \n",
        "    #### class ​Layer_Dense​:\n",
        "      def ​__init__​(​self​, ​n_inputs​, ​n_neurons)​ :\n",
        "        # Initialize weights and biases\n",
        "        pass    ​# using pass statement as a placeholder\n",
        "      \n",
        "      # Forward pass\n",
        "      def ​forward​(​self,​ ​inputs​):\n",
        "        # Calculate output values from inputs, weights and biases ​\n",
        "        pass    s​# using pass statement as a placeholder\n",
        "As previously stated, weights are often initialized randomly for a model, but not always. If you wish to load a pre-trained model, you will initialize the parameters to whatever that pretrained model finished with. It’s also possible that, even for a new model, you have some other initialization rules besides random. For now, we’ll stick with random initialization. Next, we have the ​forward ​method. When we pass data through a model from beginning to end, this is called a forward pass​. Just like everything else, however, this is not the only way to do things. You can have the data loop back around and do other interesting things. We’ll keep it usual and perform a regular forward pass.\n",
        "To continue the ​Layer_Dense​ class’ code let’s add the random initialization of weights and biases:\n",
        "  # Layer initialization\n",
        "def _​ _init__​(​self,​ ​n_inputs,​ ​n_neurons​):\n",
        "self.weights ​= ​0.01 ​* ​np.random.randn(n_inputs, n_neurons) self.biases ​= ​np.zeros((​1​, n_neurons))"
      ],
      "metadata": {
        "id": "KjuhW7R3orkY"
      }
    },
    {
      "cell_type": "code",
      "source": [
        ""
      ],
      "metadata": {
        "id": "RMc4wFxeoqpS"
      },
      "execution_count": null,
      "outputs": []
    },
    {
      "cell_type": "code",
      "source": [
        "import numpy as np \n",
        "\n",
        "np.random.seed(0)\n",
        "\n",
        "X = [[1, 2, 3, 2.5],\n",
        "     [2.0, 5.0, -1.0, 2.0],\n",
        "     [-1.5, 2.7, 3.3, -0.8]]\n",
        "\n",
        "\n",
        "class Layer_Dense:\n",
        "    def __init__(self, n_inputs, n_neurons):\n",
        "        self.weights = 0.10 * np.random.randn(n_inputs, n_neurons)\n",
        "        self.biases = np.zeros((1, n_neurons))\n",
        "    def forward(self, inputs):\n",
        "        self.output = np.dot(inputs, self.weights) + self.biases\n",
        "\n",
        "layer1 = Layer_Dense(4,5)\n",
        "layer2 = Layer_Dense(5,2)\n",
        "\n",
        "layer1.forward(X)\n",
        "#print(layer1.output)\n",
        "layer2.forward(layer1.output)\n",
        "print(layer2.output)"
      ],
      "metadata": {
        "id": "6QQcDLV7n3Mg"
      },
      "execution_count": null,
      "outputs": []
    }
  ]
}