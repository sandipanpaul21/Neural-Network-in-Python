{
  "nbformat": 4,
  "nbformat_minor": 0,
  "metadata": {
    "colab": {
      "name": "03_Code.ipynb",
      "provenance": [],
      "authorship_tag": "ABX9TyPQWh0zyLPkRDOnZNg4DLb8",
      "include_colab_link": true
    },
    "kernelspec": {
      "name": "python3",
      "display_name": "Python 3"
    },
    "language_info": {
      "name": "python"
    }
  },
  "cells": [
    {
      "cell_type": "markdown",
      "metadata": {
        "id": "view-in-github",
        "colab_type": "text"
      },
      "source": [
        "<a href=\"https://colab.research.google.com/github/sandipanpaul21/Neural-Network-in-Python/blob/main/03_Code.ipynb\" target=\"_parent\"><img src=\"https://colab.research.google.com/assets/colab-badge.svg\" alt=\"Open In Colab\"/></a>"
      ]
    },
    {
      "cell_type": "markdown",
      "source": [
        "#### Adding Layers\n",
        "- At the moment, we have just one layer, which is effectively an output layer.\n",
        "- Let's create two layer network"
      ],
      "metadata": {
        "id": "HRS2brZikKXK"
      }
    },
    {
      "cell_type": "code",
      "execution_count": 1,
      "metadata": {
        "colab": {
          "base_uri": "https://localhost:8080/"
        },
        "id": "lcW6rlHUY8rm",
        "outputId": "a624acce-5d29-4e31-f099-218638f94aa5"
      },
      "outputs": [
        {
          "output_type": "stream",
          "name": "stdout",
          "text": [
            "Single Layer Three Neuron Output\n",
            "[[41 20 23]\n",
            " [97 52 59]\n",
            " [41 20 23]]\n"
          ]
        }
      ],
      "source": [
        "# Single Layer Neural Network\n",
        "import numpy as np\n",
        "inputs = [[1,2,3,4],\n",
        "          [5,6,7,8],\n",
        "          [1,2,3,4]]\n",
        "\n",
        "weights = [[2,3,4,5],\n",
        "          [3,2,1,2],\n",
        "          [3,2,3,1]]\n",
        "\n",
        "biases = [1,2,3]\n",
        "\n",
        "output = np.dot(inputs,np.array(weights).T)+biases\n",
        "\n",
        "print(\"Single Layer Three Neuron Output\")\n",
        "print(output)"
      ]
    },
    {
      "cell_type": "code",
      "source": [
        "# Multiple Layer Neural Network\n",
        "\n",
        "inputs = [[1,2,3,4],\n",
        "          [5,6,7,8],\n",
        "          [1,2,3,4]]\n",
        "\n",
        "weights = [[2,3,4,5],\n",
        "          [3,2,1,2],\n",
        "          [3,2,3,1]]\n",
        "biases = [1,2,3]\n",
        "\n",
        "weights_2 = [[2,3,4],\n",
        "             [3,2,1],\n",
        "             [3,2,3]]\n",
        "biases_2 = [1,2,3]\n",
        "\n",
        "# For First Layer, Output = sum(weight*input) + weight\n",
        "layer1_output = np.dot(inputs,np.array(weights).T) + biases\n",
        "\n",
        "# For Second Layer, Layer1 Output will becomes Layer 2 Input\n",
        "layer2_output = np.dot(layer1_output,np.array(weights_2).T) + biases\n",
        "\n",
        "print(\"Layer 1 Output\")\n",
        "print(layer1_output)\n",
        "\n",
        "print(\"\\nLayer 2 Output\")\n",
        "print(layer2_output)"
      ],
      "metadata": {
        "colab": {
          "base_uri": "https://localhost:8080/"
        },
        "id": "EQ-RKtPXlE-b",
        "outputId": "94086649-fcc8-49fd-e0d4-8f0787e522d6"
      },
      "execution_count": 2,
      "outputs": [
        {
          "output_type": "stream",
          "name": "stdout",
          "text": [
            "Layer 1 Output\n",
            "[[41 20 23]\n",
            " [97 52 59]\n",
            " [41 20 23]]\n",
            "\n",
            "Layer 2 Output\n",
            "[[235 188 235]\n",
            " [587 456 575]\n",
            " [235 188 235]]\n"
          ]
        }
      ]
    },
    {
      "cell_type": "code",
      "source": [
        "# Lets create a sample Training Dataset (Random Set)\n",
        "import nnfs   # Will help to create random spiral dataset\n",
        "from nnfs.datasets import spiral_data\n",
        "\n",
        "nnfs.init()   # Will set random seed = 0, to make it repeatable\n",
        "X, Y = spiral_data(samples = 2,classes = 3)\n",
        "print(\"Data is in X Variable \")\n",
        "print(X)    # 3 Clases created with 2 sample each\n",
        "print(\"\\nTarget Variable or Classes Defined are in Y Variable\") \n",
        "print(Y)\n",
        "\n",
        "# Note : Data is in X Variable"
      ],
      "metadata": {
        "colab": {
          "base_uri": "https://localhost:8080/"
        },
        "id": "ursGTrNtlohp",
        "outputId": "d94708a5-cd40-4acd-a169-dc95f14f84cb"
      },
      "execution_count": 3,
      "outputs": [
        {
          "output_type": "stream",
          "name": "stdout",
          "text": [
            "Data is in X Variable \n",
            "[[ 0.          0.        ]\n",
            " [-0.69993085 -0.7142106 ]\n",
            " [-0.         -0.        ]\n",
            " [ 0.7647814  -0.6442898 ]\n",
            " [ 0.         -0.        ]\n",
            " [-0.94481426 -0.3276065 ]]\n",
            "\n",
            "Target Variable or Classes Defined are in Y Variable\n",
            "[0 0 1 1 2 2]\n"
          ]
        }
      ]
    },
    {
      "cell_type": "code",
      "source": [
        "# Lets take bigger sample to visualize\n",
        "X, Y = spiral_data(samples = 100,classes = 3)\n",
        "import matplotlib.pyplot as plt\n",
        "plt.scatter(X[:,0],X[:,1],c=Y,cmap = 'brg')\n",
        "plt.show()"
      ],
      "metadata": {
        "colab": {
          "base_uri": "https://localhost:8080/",
          "height": 265
        },
        "id": "wyog7jL9mU-9",
        "outputId": "ea37528d-0947-4f3c-87dc-958c38e1730f"
      },
      "execution_count": 4,
      "outputs": [
        {
          "output_type": "display_data",
          "data": {
            "image/png": "[encoded data removed]",
            "text/plain": [
              "<Figure size 432x288 with 1 Axes>"
            ]
          },
          "metadata": {
            "needs_background": "light"
          }
        }
      ]
    },
    {
      "cell_type": "markdown",
      "source": [
        "#### Dense Layer Class\n",
        "\n",
        "- We used what’s called a ​dense​ or fully-connected​ layer. These layers are commonly referred to as “dense” layers in papers, literature, and code, but you will occasionally see them called fully-connected or “fc” for short in code. \n",
        "- Our dense layer class will begin with two methods.\n",
        "    \n",
        "      class ​Layer_Dense​:\n",
        "        # This function will create random Weights and Biases\n",
        "        # n_inputs : number of inputs\n",
        "        # n_neuron : number of neurons\n",
        "        def ​__init__​(​self​, ​n_inputs​, ​n_neurons)​:\n",
        "          # Randomly Initialize weights and biases\n",
        "          pass    ​# using pass statement as a placeholder\n",
        "        \n",
        "        # Forward pass will calculate the neuron output\n",
        "        def ​forward​(​self,​ ​inputs​):\n",
        "          # Calculate output = (input * weight)​ + biases\n",
        "          pass    ​# using pass statement as a placeholder\n",
        "\n",
        "\n",
        "- As previously stated, weights are often initialized randomly for a model, but not always. \n",
        "- Next, we have the ​forward ​method. When we pass data through a model from beginning to end, this is called a forward pass​. "
      ],
      "metadata": {
        "id": "KjuhW7R3orkY"
      }
    },
    {
      "cell_type": "code",
      "source": [
        "print(np.random.randn(2,5)) \n",
        "# This random.rand() will take data randomly from gaussian distribution with mean 0\n",
        "# 2 is number of Rows and 5 is number of Columns"
      ],
      "metadata": {
        "colab": {
          "base_uri": "https://localhost:8080/"
        },
        "id": "iZxM3xY7qoue",
        "outputId": "d1eba3c4-459e-4f19-b005-932ac3877291"
      },
      "execution_count": 5,
      "outputs": [
        {
          "output_type": "stream",
          "name": "stdout",
          "text": [
            "[[-1.3342584  -1.3467175   0.69377315 -0.15957344 -0.13370156]\n",
            " [ 1.0777438  -1.1268258  -0.7306777  -0.3848798   0.09435159]]\n"
          ]
        }
      ]
    },
    {
      "cell_type": "code",
      "source": [
        "print(np.zeros((1,3)))\n",
        "# np.zeros​ function takes a desired array shape as an argument and returns an array of that shape filled with zeros."
      ],
      "metadata": {
        "colab": {
          "base_uri": "https://localhost:8080/"
        },
        "id": "GhyZlmj5rgVU",
        "outputId": "16c22315-ba3d-464b-b232-1a28db4978ba"
      },
      "execution_count": 6,
      "outputs": [
        {
          "output_type": "stream",
          "name": "stdout",
          "text": [
            "[[0. 0. 0.]]\n"
          ]
        }
      ]
    },
    {
      "cell_type": "code",
      "source": [
        "# Lets initialize Random Weight and Random Biases\n",
        "n_inputs = 2\n",
        "n_neurons = 4\n",
        "weights = 0.01 * np.random.randn(n_inputs,n_neurons)\n",
        "biases = np.zeros((1,n_neurons))\n",
        "print(\"Random Weights\\n\",weights)\n",
        "print(\"\\nRandom Biases\\n\",biases)"
      ],
      "metadata": {
        "colab": {
          "base_uri": "https://localhost:8080/"
        },
        "id": "pAbxAyxwrB6-",
        "outputId": "a4787b1a-ca25-4e9e-d0f2-b10389a3a5c9"
      },
      "execution_count": 7,
      "outputs": [
        {
          "output_type": "stream",
          "name": "stdout",
          "text": [
            "Random Weights\n",
            " [[-0.00042171 -0.00286887 -0.00061626 -0.00107305]\n",
            " [-0.00719604 -0.00812993  0.00274516 -0.00890915]]\n",
            "\n",
            "Random Biases\n",
            " [[0. 0. 0. 0.]]\n"
          ]
        }
      ]
    },
    {
      "cell_type": "code",
      "source": [
        "# Layer Initialization : let’s add the random initialization of weights and biases:\n",
        "\n",
        "class Layer_Dense: \n",
        "\n",
        "  # This function will create random Weights and Biases\n",
        "  def __init(self,n_inputs,n_neurons):\n",
        "    self.weights = 0.01*np.random(n_inputs,n_neurons)\n",
        "    self.biases = np.zeros((1,n_neurons))\n",
        "\n",
        "  # Forward pass will calculate the neuron output\n",
        "  def forward(self, inputs):\n",
        "          self.output = np.dot(inputs, self.weights) + self.biases"
      ],
      "metadata": {
        "id": "RMc4wFxeoqpS"
      },
      "execution_count": 8,
      "outputs": []
    },
    {
      "cell_type": "code",
      "source": [
        "# Sample Data\n",
        "X, Y = spiral_data(samples = 2,classes = 3)\n",
        "print(\"Data is in X Variable \")\n",
        "print(X)    # 3 Clases created with 2 sample each\n",
        "print(\"\\nTarget Variable or Classes Defined are in Y Variable\") \n",
        "print(Y)\n",
        "\n",
        "# Note : Data is in X Variable"
      ],
      "metadata": {
        "colab": {
          "base_uri": "https://localhost:8080/"
        },
        "id": "LRdpeBIZzwrM",
        "outputId": "0e3d44e9-005b-4c60-ece8-ed9c7361957d"
      },
      "execution_count": 9,
      "outputs": [
        {
          "output_type": "stream",
          "name": "stdout",
          "text": [
            "Data is in X Variable \n",
            "[[-0.          0.        ]\n",
            " [-0.4069165  -0.9134654 ]\n",
            " [-0.         -0.        ]\n",
            " [ 0.75965786 -0.650323  ]\n",
            " [ 0.          0.        ]\n",
            " [-0.81008446  0.5863132 ]]\n",
            "\n",
            "Target Variable or Classes Defined are in Y Variable\n",
            "[0 0 1 1 2 2]\n"
          ]
        }
      ]
    },
    {
      "cell_type": "code",
      "source": [
        "# Random Spiral Dataset with two inputs X and Y and three output classes\n",
        "X, Y = spiral_data(samples = 2,classes = 3)\n",
        "\n",
        "print(\"Original Data (X and Y) with 3 Classes:\")\n",
        "print(X)    # 3 Clases created with 2 sample each\n",
        "\n",
        "print(\"\\nTarget Variable or Classes Defined are in Y Variable:\") \n",
        "print(Y)\n",
        "print(\"\\n\")\n",
        "\n",
        "\n",
        "np.random.seed(0)\n",
        "class Layer_Dense:\n",
        "  \n",
        "  # Random Initialization of Weight and Bias\n",
        "  def __init__(self, n_inputs, n_neurons):\n",
        "    print(\"Number of Inputs, n_inputs :\",n_inputs)\n",
        "    print(\"Number of Neurons, n_neurons :\",n_neurons) \n",
        "    print(\"In our case n_neurons is number of outputs\")\n",
        "    \n",
        "    self.weights = 0.10 * np.random.randn(n_inputs, n_neurons)\n",
        "    print(\"\\nRandom weights Initialized:\")\n",
        "    print(\"2 output means 2 rows and each row contains 3 input weight as we have 3 neurons\")\n",
        "    print(self.weights)\n",
        "    \n",
        "    self.biases = np.zeros((1, n_neurons))\n",
        "    print(\"\\nTwo Output means Two Biases but we are adding zero biases :\")\n",
        "    print(self.biases)\n",
        "  \n",
        "  # Calculation of Output = (input * weight) + bias\n",
        "  def forward(self,n_inputs):\n",
        "    print(\"\\nOriginal Data before Output Calculation\")\n",
        "    print(n_inputs)\n",
        "    self.output = np.dot(n_inputs, self.weights)\n",
        "\n",
        "\n",
        "\n",
        "# Create a Dense Layer with 2 input features (X and Y) and 3 Output Class\n",
        "dense1 = Layer_Dense(2,3)\n",
        "\n",
        "# Perform a forward pass of out training data through this layer\n",
        "# As we discussed eariler in notebook, Data is in X Variable\n",
        "dense1.forward(X)\n",
        "\n",
        "print(\"\\nOutput of Neuron\")\n",
        "print(dense1.output)"
      ],
      "metadata": {
        "colab": {
          "base_uri": "https://localhost:8080/"
        },
        "id": "6QQcDLV7n3Mg",
        "outputId": "cc6a61e7-e842-4526-c11b-ad0bea2e3b6a"
      },
      "execution_count": 10,
      "outputs": [
        {
          "output_type": "stream",
          "name": "stdout",
          "text": [
            "Original Data (X and Y) with 3 Classes:\n",
            "[[ 0.          0.        ]\n",
            " [ 0.01924925 -0.9998147 ]\n",
            " [-0.         -0.        ]\n",
            " [ 0.5299179   0.848049  ]\n",
            " [-0.          0.        ]\n",
            " [-0.8969255   0.44218165]]\n",
            "\n",
            "Target Variable or Classes Defined are in Y Variable:\n",
            "[0 0 1 1 2 2]\n",
            "\n",
            "\n",
            "Number of Inputs, n_inputs : 2\n",
            "Number of Neurons, n_neurons : 3\n",
            "In our case n_neurons is number of outputs\n",
            "\n",
            "Random weights Initialized:\n",
            "2 output means 2 rows and each row contains 3 input weight as we have 3 neurons\n",
            "[[ 0.17640524  0.04001572  0.0978738 ]\n",
            " [ 0.22408931  0.1867558  -0.09772779]]\n",
            "\n",
            "Two Output means Two Biases but we are adding zero biases :\n",
            "[[0. 0. 0.]]\n",
            "\n",
            "Original Data before Output Calculation\n",
            "[[ 0.          0.        ]\n",
            " [ 0.01924925 -0.9998147 ]\n",
            " [-0.         -0.        ]\n",
            " [ 0.5299179   0.848049  ]\n",
            " [-0.          0.        ]\n",
            " [-0.8969255   0.44218165]]\n",
            "\n",
            "Output of Neuron\n",
            "[[ 0.          0.          0.        ]\n",
            " [-0.22065212 -0.18595092  0.09959368]\n",
            " [ 0.          0.          0.        ]\n",
            " [ 0.283519    0.17958312 -0.03101288]\n",
            " [ 0.          0.          0.        ]\n",
            " [-0.05913418  0.04668887 -0.13099894]]\n"
          ]
        }
      ]
    }
  ]
}