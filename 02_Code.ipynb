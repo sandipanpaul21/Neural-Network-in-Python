{
  "nbformat": 4,
  "nbformat_minor": 0,
  "metadata": {
    "colab": {
      "name": "02_Code.ipynb",
      "provenance": [],
      "collapsed_sections": [],
      "authorship_tag": "ABX9TyOheBvrQBwfZqhIi4oND+xD",
      "include_colab_link": true
    },
    "kernelspec": {
      "name": "python3",
      "display_name": "Python 3"
    },
    "language_info": {
      "name": "python"
    }
  },
  "cells": [
    {
      "cell_type": "markdown",
      "metadata": {
        "id": "view-in-github",
        "colab_type": "text"
      },
      "source": [
        "<a href=\"https://colab.research.google.com/github/sandipanpaul21/Neural-Network-in-Python/blob/main/02_Code.ipynb\" target=\"_parent\"><img src=\"https://colab.research.google.com/assets/colab-badge.svg\" alt=\"Open In Colab\"/></a>"
      ]
    },
    {
      "cell_type": "markdown",
      "source": [
        "####A Single Neuron\n",
        "\n",
        "- Each input needs a weight associated with it. Single Neuron will have Single Bias.\n",
        "- Inputs are the data that we pass into the model to get desired outputs while the weights are the parameters that we’ll tune later on to get these results. \n",
        "- Weights are one of the types of values that change inside the model during the training phase, along with biases that also change during training. \n",
        "- The values for weights and biases are what get “trained” they are what make a model actually work (or not work). "
      ],
      "metadata": {
        "id": "T1w_o6UL19Mn"
      }
    },
    {
      "cell_type": "code",
      "source": [
        "import numpy as np\n",
        "inputs = [1,2,3]\n",
        "weights = [0.2,0.8,-0.5]\n",
        "bias = 2"
      ],
      "metadata": {
        "id": "JpmGgMkw2RTv"
      },
      "execution_count": 1,
      "outputs": []
    },
    {
      "cell_type": "markdown",
      "source": [
        "- This neuron sums each input multiplied by that input’s weight, then adds the bias. \n",
        "- All the neuron does is take the fractions of inputs, where these fractions (weights) are the adjustable parameters and adds another adjustable parameter — the bias — then outputs the result."
      ],
      "metadata": {
        "id": "k6dDu20j2Z1x"
      }
    },
    {
      "cell_type": "code",
      "source": [
        "output = (inputs[0]*weights[0] + inputs[1]*weights[1] + inputs[2]*weights[2] + bias)\n",
        "# This neurons sums each input multiplied by weight and bias is added\n",
        "print(\"Output from the Neuron : \",output) "
      ],
      "metadata": {
        "colab": {
          "base_uri": "https://localhost:8080/"
        },
        "id": "Eer4kxHQ2Wbc",
        "outputId": "df71fcd6-58bf-4ecb-e338-c4e9debaf628"
      },
      "execution_count": 2,
      "outputs": [
        {
          "output_type": "stream",
          "name": "stdout",
          "text": [
            "Output from the Neuron :  2.3\n"
          ]
        }
      ]
    },
    {
      "cell_type": "code",
      "source": [
        "# Another Example\n",
        "inputs = [1,2,3,4]\n",
        "weights = [0.2,0.8,-0.5,1,0]\n",
        "bias = 2\n",
        "\n",
        "output = (inputs[0]*weights[0] + inputs[1]*weights[1] + inputs[2]*weights[2] +inputs[3]*weights[3] + bias)\n",
        "print(\"Output from the Neuron : \",output) "
      ],
      "metadata": {
        "colab": {
          "base_uri": "https://localhost:8080/"
        },
        "id": "fLQEGqst297k",
        "outputId": "e8286b3d-bacf-4292-840c-514fde8543ef"
      },
      "execution_count": 3,
      "outputs": [
        {
          "output_type": "stream",
          "name": "stdout",
          "text": [
            "Output from the Neuron :  6.3\n"
          ]
        }
      ]
    },
    {
      "cell_type": "markdown",
      "source": [
        "#### A Layer of Neuron\n",
        "\n",
        "- **Neural networks typically have layers that consist of more than one neuron.**\n",
        "- Layers are nothing more than groups of neurons. \n",
        "- Each neuron in a layer takes exactly the same input — the input given to the layer (which can be either the training data or the output from the previous layer), but contains its own set of weights and its own bias, producing its own unique output. \n",
        "- The layer’s output is a set of each of these outputs — one per each neuron."
      ],
      "metadata": {
        "id": "3Dc63jfL29EB"
      }
    },
    {
      "cell_type": "code",
      "source": [
        "# Example - Single Layer and contain 3 neuron so 3 bias will be there\n",
        "# Raw Input\n",
        "inputs = [ 1 , 2 , 3 , 2.5 ] \n",
        "\n",
        "# First Neuron, Weight (4 weight because for Input) and Bias\n",
        "weights1 = [ 0.2 , 0.8 , - 0.5 , 1 ] \n",
        "bias1 = 2 \n",
        "\n",
        "# Second Neuron, Weight (4 weight because for Input) and Bias\n",
        "weights2 = [ 0.5 , - 0.91 , 0.26 , - 0.5 ] \n",
        "bias2 = 3 \n",
        "\n",
        "# Thrid Neuron, Weight (4 weight because for Input) and Bias\n",
        "weights3 = [ - 0.26 , - 0.27 , 0.17 , 0.87 ] \n",
        "bias3 = 0.5 \n",
        "\n",
        "outputs = [\n",
        "           # Neuron 1: \n",
        "           inputs[ 0 ] * weights1[ 0 ] + inputs[ 1 ] * weights1[ 1 ] + inputs[ 2 ] * weights1[ 2 ] + inputs[ 3 ] * weights1[ 3 ] + bias1, \n",
        "           # Neuron 2: \n",
        "           inputs[ 0 ] * weights2[ 0 ] + inputs[ 1 ] * weights2[ 1 ] + inputs[ 2 ] * weights2[ 2 ] + inputs[ 3 ] * weights2[ 3 ] + bias2, \n",
        "           # Neuron 3: \n",
        "           inputs[ 0 ] * weights3[ 0 ] + inputs[ 1 ] * weights3[ 1 ] + inputs[ 2 ] * weights3[ 2 ] + inputs[ 3 ] * weights3[ 3 ] + bias3] \n",
        "\n",
        "print(\"Ouput of 3 Nuerons are \",outputs)"
      ],
      "metadata": {
        "colab": {
          "base_uri": "https://localhost:8080/"
        },
        "id": "5WbkEaLz2XPu",
        "outputId": "9fde666b-53c2-4f38-e00f-b22a532da11b"
      },
      "execution_count": 4,
      "outputs": [
        {
          "output_type": "stream",
          "name": "stdout",
          "text": [
            "Ouput of 3 Nuerons are  [4.8, 1.21, 2.385]\n"
          ]
        }
      ]
    },
    {
      "cell_type": "markdown",
      "source": [
        "- In this code, we have three sets of weights and three biases, which define three neurons. \n",
        "- Each neuron is “connected” to the same inputs. The difference is in the separate weights and bias that each neuron applies to the input. \n",
        "- This is called a ​**fully connected​ neural network** — every neuron in the current layer has connections to every neuron from the previous layer. \n",
        "- This is a very common type of neural network, but it should be noted that there is no requirement to fully connect everything like this. At this point, we have only shown code for a single layer with very few neurons. \n",
        "- Imagine coding many more layers and more neurons. This would get very challenging to code using our current methods. Instead, we could use a loop to scale and handle dynamically-sized inputs and layers."
      ],
      "metadata": {
        "id": "tLpQIEXx52WW"
      }
    },
    {
      "cell_type": "code",
      "source": [
        "# Example - Single Layer and contains Two Neuron so Two Biases\n",
        "# Two feature with one row\n",
        "inputs = [1,2]\n",
        "\n",
        "# Two neuron have two list, each weight consist of 2 weights for respective feature\n",
        "weights = [[5,6],\n",
        "           [7,8]]\n",
        "\n",
        "# For two neuron, we will have 2 biases\n",
        "biases = [10,11]\n",
        "\n",
        "# Output of Current Layer, let it be empty list\n",
        "layer_outputs = []\n",
        "\n",
        "# For each neuron\n",
        "for neuron_weights, neuron_bias in zip(weights,biases):\n",
        "\n",
        "  # Zeroed Output of Given Neuron\n",
        "  neuron_output = 0\n",
        "  number_of_iteration = 1\n",
        "\n",
        "  # For each input and weight to the neuron\n",
        "  for n_input, weight in zip(inputs,neuron_weights):\n",
        "    print(\"Number of iteration for each bias : \",number_of_iteration)\n",
        "    number_of_iteration = number_of_iteration + 1\n",
        "    print(\"Inputs : \",n_input)\n",
        "    print(\"Weight : \",weight)\n",
        "\n",
        "    # Multiple this input by associated weight and add to the neuron's weight\n",
        "    neuron_output = n_input * weight\n",
        "    print(\"n_input * weight :\",neuron_output)\n",
        "    \n",
        "    # Add Bias\n",
        "    print(\"Bias : \",neuron_bias)\n",
        "    neuron_output = neuron_output + neuron_bias\n",
        "    print(\"After Adding Bias to last step : \",neuron_output)\n",
        "    \n",
        "    # Put neuron's result to the layer's output\n",
        "    layer_outputs.append(neuron_output)\n",
        "    print(layer_outputs)\n",
        "    print(\"\\n\")\n",
        "\n",
        "print(\"Final Output :\")\n",
        "print(layer_outputs)      "
      ],
      "metadata": {
        "colab": {
          "base_uri": "https://localhost:8080/"
        },
        "id": "CTxQJujtXP-m",
        "outputId": "2694add6-155a-4a2f-da32-ba46fb4e73b9"
      },
      "execution_count": 5,
      "outputs": [
        {
          "output_type": "stream",
          "name": "stdout",
          "text": [
            "Number of iteration for each bias :  1\n",
            "Inputs :  1\n",
            "Weight :  5\n",
            "n_input * weight : 5\n",
            "Bias :  10\n",
            "After Adding Bias to last step :  15\n",
            "[15]\n",
            "\n",
            "\n",
            "Number of iteration for each bias :  2\n",
            "Inputs :  2\n",
            "Weight :  6\n",
            "n_input * weight : 12\n",
            "Bias :  10\n",
            "After Adding Bias to last step :  22\n",
            "[15, 22]\n",
            "\n",
            "\n",
            "Number of iteration for each bias :  1\n",
            "Inputs :  1\n",
            "Weight :  7\n",
            "n_input * weight : 7\n",
            "Bias :  11\n",
            "After Adding Bias to last step :  18\n",
            "[15, 22, 18]\n",
            "\n",
            "\n",
            "Number of iteration for each bias :  2\n",
            "Inputs :  2\n",
            "Weight :  8\n",
            "n_input * weight : 16\n",
            "Bias :  11\n",
            "After Adding Bias to last step :  27\n",
            "[15, 22, 18, 27]\n",
            "\n",
            "\n",
            "Final Output :\n",
            "[15, 22, 18, 27]\n"
          ]
        }
      ]
    },
    {
      "cell_type": "code",
      "source": [
        "# Another Example\n",
        "\n",
        "# Input - 1 * 4 suggests 4 dimension only 1 row\n",
        "inputs = [1,2,3,4]\n",
        "\n",
        "# For 4 Feature we will have 4 weights in each list and lets have 3 list/neurons\n",
        "# Weight - 3 * 4, 3 weight list and each list/neurons contains 4 weight \n",
        "weights = [[0.2, 0.8, -0.5, 1],\n",
        "           [0.5, -0.91, 0.26, -0.5],\n",
        "           [-0.26, -0.27, 0.17, 0.87]]\n",
        "\n",
        "# For 3 neurons, we will have 3 Bias\n",
        "# Bias - 1 * 3, 3 because we have 3 weights\n",
        "biases = [2,3,0.5]\n",
        "\n",
        "# Output of Current Layer, let it be empty for now\n",
        "layer_outputs = []\n",
        "\n",
        "# For each neuron\n",
        "for neuron_weights, neuron_bias in zip(weights,biases):\n",
        "\n",
        "  # Zeroed Output of Given Neuron\n",
        "  neuron_output = 0\n",
        "  number_of_iteration = 1\n",
        "\n",
        "  # For each input and weight to the neuron\n",
        "  for n_input, weight in zip(inputs,neuron_weights):\n",
        "    print(\"Number of iteration for each bias : \",number_of_iteration)\n",
        "    number_of_iteration = number_of_iteration + 1\n",
        "    print(\"Inputs : \",n_input)\n",
        "    print(\"Weight : \",weight)\n",
        "\n",
        "    # Multiple this input by associated weight and add to the neuron's weight\n",
        "    neuron_output = n_input * weight\n",
        "    print(\"n_input * weight :\",neuron_output)\n",
        "    \n",
        "    # Add Bias\n",
        "    print(\"Bias : \",neuron_bias)\n",
        "    neuron_output = neuron_output + neuron_bias\n",
        "    print(\"After Adding Bias to last step : \",neuron_output)\n",
        "    \n",
        "    # Put neuron's result to the layer's output\n",
        "    layer_outputs.append(neuron_output)\n",
        "    print(layer_outputs)\n",
        "    print(\"\\n\")\n",
        "\n",
        "print(\"Final Output :\")\n",
        "print(layer_outputs)      "
      ],
      "metadata": {
        "colab": {
          "base_uri": "https://localhost:8080/"
        },
        "id": "hMn9QlAR7Pnz",
        "outputId": "e584fe90-fab4-4339-99ee-10424d33fa91"
      },
      "execution_count": 6,
      "outputs": [
        {
          "output_type": "stream",
          "name": "stdout",
          "text": [
            "Number of iteration for each bias :  1\n",
            "Inputs :  1\n",
            "Weight :  0.2\n",
            "n_input * weight : 0.2\n",
            "Bias :  2\n",
            "After Adding Bias to last step :  2.2\n",
            "[2.2]\n",
            "\n",
            "\n",
            "Number of iteration for each bias :  2\n",
            "Inputs :  2\n",
            "Weight :  0.8\n",
            "n_input * weight : 1.6\n",
            "Bias :  2\n",
            "After Adding Bias to last step :  3.6\n",
            "[2.2, 3.6]\n",
            "\n",
            "\n",
            "Number of iteration for each bias :  3\n",
            "Inputs :  3\n",
            "Weight :  -0.5\n",
            "n_input * weight : -1.5\n",
            "Bias :  2\n",
            "After Adding Bias to last step :  0.5\n",
            "[2.2, 3.6, 0.5]\n",
            "\n",
            "\n",
            "Number of iteration for each bias :  4\n",
            "Inputs :  4\n",
            "Weight :  1\n",
            "n_input * weight : 4\n",
            "Bias :  2\n",
            "After Adding Bias to last step :  6\n",
            "[2.2, 3.6, 0.5, 6]\n",
            "\n",
            "\n",
            "Number of iteration for each bias :  1\n",
            "Inputs :  1\n",
            "Weight :  0.5\n",
            "n_input * weight : 0.5\n",
            "Bias :  3\n",
            "After Adding Bias to last step :  3.5\n",
            "[2.2, 3.6, 0.5, 6, 3.5]\n",
            "\n",
            "\n",
            "Number of iteration for each bias :  2\n",
            "Inputs :  2\n",
            "Weight :  -0.91\n",
            "n_input * weight : -1.82\n",
            "Bias :  3\n",
            "After Adding Bias to last step :  1.18\n",
            "[2.2, 3.6, 0.5, 6, 3.5, 1.18]\n",
            "\n",
            "\n",
            "Number of iteration for each bias :  3\n",
            "Inputs :  3\n",
            "Weight :  0.26\n",
            "n_input * weight : 0.78\n",
            "Bias :  3\n",
            "After Adding Bias to last step :  3.7800000000000002\n",
            "[2.2, 3.6, 0.5, 6, 3.5, 1.18, 3.7800000000000002]\n",
            "\n",
            "\n",
            "Number of iteration for each bias :  4\n",
            "Inputs :  4\n",
            "Weight :  -0.5\n",
            "n_input * weight : -2.0\n",
            "Bias :  3\n",
            "After Adding Bias to last step :  1.0\n",
            "[2.2, 3.6, 0.5, 6, 3.5, 1.18, 3.7800000000000002, 1.0]\n",
            "\n",
            "\n",
            "Number of iteration for each bias :  1\n",
            "Inputs :  1\n",
            "Weight :  -0.26\n",
            "n_input * weight : -0.26\n",
            "Bias :  0.5\n",
            "After Adding Bias to last step :  0.24\n",
            "[2.2, 3.6, 0.5, 6, 3.5, 1.18, 3.7800000000000002, 1.0, 0.24]\n",
            "\n",
            "\n",
            "Number of iteration for each bias :  2\n",
            "Inputs :  2\n",
            "Weight :  -0.27\n",
            "n_input * weight : -0.54\n",
            "Bias :  0.5\n",
            "After Adding Bias to last step :  -0.040000000000000036\n",
            "[2.2, 3.6, 0.5, 6, 3.5, 1.18, 3.7800000000000002, 1.0, 0.24, -0.040000000000000036]\n",
            "\n",
            "\n",
            "Number of iteration for each bias :  3\n",
            "Inputs :  3\n",
            "Weight :  0.17\n",
            "n_input * weight : 0.51\n",
            "Bias :  0.5\n",
            "After Adding Bias to last step :  1.01\n",
            "[2.2, 3.6, 0.5, 6, 3.5, 1.18, 3.7800000000000002, 1.0, 0.24, -0.040000000000000036, 1.01]\n",
            "\n",
            "\n",
            "Number of iteration for each bias :  4\n",
            "Inputs :  4\n",
            "Weight :  0.87\n",
            "n_input * weight : 3.48\n",
            "Bias :  0.5\n",
            "After Adding Bias to last step :  3.98\n",
            "[2.2, 3.6, 0.5, 6, 3.5, 1.18, 3.7800000000000002, 1.0, 0.24, -0.040000000000000036, 1.01, 3.98]\n",
            "\n",
            "\n",
            "Final Output :\n",
            "[2.2, 3.6, 0.5, 6, 3.5, 1.18, 3.7800000000000002, 1.0, 0.24, -0.040000000000000036, 1.01, 3.98]\n"
          ]
        }
      ]
    },
    {
      "cell_type": "markdown",
      "source": [
        "#### Tensors\n",
        "\n",
        "- A tensor object is an object that can be represented as an array.\n",
        "\n"
      ],
      "metadata": {
        "id": "gu7o_26dW_L5"
      }
    },
    {
      "cell_type": "code",
      "source": [
        "# Dot Product\n",
        "a = [1,2,3]\n",
        "b = [4,5,6]\n",
        "\n",
        "dot_product = a[0]*b[0]+a[1]*b[1]+a[2]*b[2]\n",
        "print(dot_product)"
      ],
      "metadata": {
        "colab": {
          "base_uri": "https://localhost:8080/"
        },
        "id": "AI1Ybd0vezkj",
        "outputId": "b230d562-fc57-404e-98fb-41217c5e2be5"
      },
      "execution_count": 7,
      "outputs": [
        {
          "output_type": "stream",
          "name": "stdout",
          "text": [
            "32\n"
          ]
        }
      ]
    },
    {
      "cell_type": "code",
      "source": [
        "# Other way to do it is \n",
        "dot_product = np.dot(a,b)\n",
        "print(dot_product)"
      ],
      "metadata": {
        "colab": {
          "base_uri": "https://localhost:8080/"
        },
        "id": "j1EDLgexcDYS",
        "outputId": "43fedc69-1ecb-45a5-f5c2-7292f8b5a498"
      },
      "execution_count": 8,
      "outputs": [
        {
          "output_type": "stream",
          "name": "stdout",
          "text": [
            "32\n"
          ]
        }
      ]
    },
    {
      "cell_type": "code",
      "source": [
        "# A Single Neuron with Numpy\n",
        "\n",
        "# Two feature with one row\n",
        "inputs = [1,2]\n",
        "\n",
        "# For two feature we will have 2 weights in a list and lets have 1 list/neuron\n",
        "# Weights - 2 * 2\n",
        "weights = [[5,6],\n",
        "           [7,8]]\n",
        "\n",
        "# For one neuron, we will have 1 biases\n",
        "biases = 10\n",
        "\n",
        "output = np.dot(inputs,weights) + biases\n",
        "print(output)"
      ],
      "metadata": {
        "colab": {
          "base_uri": "https://localhost:8080/"
        },
        "id": "ILHvF6WGcf-a",
        "outputId": "6660e5c4-230a-4d70-a789-5df3e104edb6"
      },
      "execution_count": 9,
      "outputs": [
        {
          "output_type": "stream",
          "name": "stdout",
          "text": [
            "[29 32]\n"
          ]
        }
      ]
    },
    {
      "cell_type": "markdown",
      "source": [
        "#### A Layer of Neurons and Batch of Data\n",
        "\n",
        "- When input becomes batch of inputs (a matrix), we need to perform matrix product"
      ],
      "metadata": {
        "id": "VFhKRLt8VNPH"
      }
    },
    {
      "cell_type": "code",
      "source": [
        "# Input is 3*4 Matrix\n",
        "inputs = [[1.0,2.0,3.0,2.5],\n",
        "          [2.0,5.0,-1.0,2.0],\n",
        "          [-1.5,2.7,3.3,-0.8]]\n",
        "\n",
        "# Weight is also 3*4 Matrix so transposed to 4*3 Matrix\n",
        "weights = [[0.2,0.8,-0.5,1.0],\n",
        "           [0.5,-0.91,0.26,-0.5],\n",
        "           [-0.26,-0.27,0.17,0.87]]\n",
        "\n",
        "# One Layer Neural Network with 3 Neurons\n",
        "biases = [2.0,3.0,0.5]\n",
        "\n",
        "# Output of Neuron\n",
        "layer_outputs = np.dot(inputs,np.array(weights).T) + biases\n",
        "\n",
        "print(\"Neural Network Output is 3*3 Matrix\")\n",
        "print(layer_outputs)"
      ],
      "metadata": {
        "colab": {
          "base_uri": "https://localhost:8080/"
        },
        "id": "O5mVo6_Td5pm",
        "outputId": "faa7581b-aa7c-43d4-8ba4-003d6786f314"
      },
      "execution_count": 10,
      "outputs": [
        {
          "output_type": "stream",
          "name": "stdout",
          "text": [
            "Neural Network Output is 3*3 Matrix\n",
            "[[ 4.8    1.21   2.385]\n",
            " [ 8.9   -1.81   0.2  ]\n",
            " [ 1.41   1.051  0.026]]\n"
          ]
        }
      ]
    }
  ]
}