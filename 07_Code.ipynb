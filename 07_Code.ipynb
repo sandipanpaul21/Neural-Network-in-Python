{
 "cells": [
  {
   "cell_type": "markdown",
   "id": "611ff70e",
   "metadata": {},
   "source": [
    "# Derivatives\n",
    "\n",
    "- Randomly changing and searching for optimal weights and biases did not prove fruitful for one main reason: the number of possible combinations of weights and biases is infinite, and we need something smarter than pure luck to achieve any success. \n",
    "- Each weight and bias may also have different degrees of influence on the loss — this influence depends on the parameters themselves as well as on the current sample, which is an input to the first layer. \n",
    "- These input values are then multiplied by the weights, so the input data affects the neuron’s output and affects the impact that the weights make on the loss. \n",
    "- The same principle applies to the biases and parameters in the next layers, taking the previous layer’s outputs as inputs. This means that the impact on the output values depends on the parameters as well as the samples — which is why we are calculating the loss value per each sample separately. \n",
    "- Finally, the function of ​how​ a weight or bias impacts the overall loss is not necessarily linear. In order to know ​how​ to adjust weights and biases, we first need to understand their impact on the loss.\n",
    "- One concept to note is that we refer to weights and biases and their impact on the loss function. The loss function doesn’t contain weights or biases, though. The input to this function is the output of the model, and the weights and biases of the neurons influence this output. Thus, even though we calculate loss from the model’s output, not weights/biases, these weights and biases directly impact the loss"
   ]
  },
  {
   "cell_type": "markdown",
   "id": "26c8a2d2",
   "metadata": {},
   "source": [
    "### The Impact of a Parameter on the Output\n",
    "\n",
    "Taken an example of f =2(x), what is the impact on Output.\n",
    "\n",
    "#### The Slope\n",
    "\n",
    "- f(x) = 2x function, which is a line. \n",
    "\n",
    "**How might you define the impact that x will have on y?** \n",
    "\n",
    "- Some will say, “y is double x” \n",
    "- Another way to describe the impact of a linear function such as this comes from algebra: the slope. \n",
    "- The slope of a line is: \n",
    "      slope of a line = change in y / change in x = Δ y / Δ x\n",
    "    - It is change in y divided by change in x, or in math — delta y divided by delta x\n",
    "\n",
    "**What’s the slope of f(x) = 2x then?**\n",
    "\n",
    "- To calculate the slope, first we have to take any two points lying on the function’s graph and subtract them to calculate the change. \n",
    "- Subtracting the points means to subtract their x and y dimensions respectively. \n",
    "- Division of the change in y by the change in x returns the slope"
   ]
  },
  {
   "cell_type": "code",
   "execution_count": 1,
   "id": "e812d6c5",
   "metadata": {},
   "outputs": [
    {
     "name": "stdout",
     "output_type": "stream",
     "text": [
      "[0 1 2 3 4]\n",
      "[0 2 4 6 8]\n"
     ]
    },
    {
     "data": {
      "image/png": "[encoded data removed]",
      "text/plain": [
       "<Figure size 432x288 with 1 Axes>"
      ]
     },
     "metadata": {
      "needs_background": "light"
     },
     "output_type": "display_data"
    }
   ],
   "source": [
    "import matplotlib.pyplot as plt\n",
    "import numpy as np\n",
    "\n",
    "def f(x):\n",
    "  return 2 * x\n",
    "\n",
    "x = np.array(range(5))\n",
    "y = f(x)\n",
    "\n",
    "print(x)\n",
    "print(y)\n",
    "\n",
    "plt.plot(x,y)\n",
    "plt.show()"
   ]
  },
  {
   "cell_type": "code",
   "execution_count": 2,
   "id": "fbab117a",
   "metadata": {},
   "outputs": [
    {
     "name": "stdout",
     "output_type": "stream",
     "text": [
      "Slope of the line 0 and 1: 2.0\n",
      "Slope of the line 1 and 2: 2.0\n",
      "Slope of the line 0 and 2: 2.0\n"
     ]
    }
   ],
   "source": [
    "slope = ((y[1]-y[0]) / (x[1]-x[0]))\n",
    "print(\"Slope of the line 0 and 1:\",slope)\n",
    "\n",
    "slope = ((y[2]-y[1]) / (x[2]-x[1]))\n",
    "print(\"Slope of the line 1 and 2:\",slope)\n",
    "\n",
    "slope = ((y[2]-y[0]) / (x[2]-x[0]))\n",
    "print(\"Slope of the line 0 and 2:\",slope)\n",
    "\n",
    "# Inference :\n",
    "# Slope is same for Linear Functions"
   ]
  },
  {
   "cell_type": "markdown",
   "id": "65258963",
   "metadata": {},
   "source": [
    "- It is not surprising that the slope of this line is 2. We could say the measure of the impact that ​x has on ​y​ is 2. \n",
    "- We can calculate the slope in the same way for any linear function, including linear functions that aren’t as obvious."
   ]
  },
  {
   "cell_type": "code",
   "execution_count": 3,
   "id": "2dfd2ebb",
   "metadata": {},
   "outputs": [
    {
     "name": "stdout",
     "output_type": "stream",
     "text": [
      "[0 1 2 3 4]\n",
      "[ 0  2  8 18 32]\n"
     ]
    },
    {
     "data": {
      "image/png": "[encoded data removed]",
      "text/plain": [
       "<Figure size 432x288 with 1 Axes>"
      ]
     },
     "metadata": {
      "needs_background": "light"
     },
     "output_type": "display_data"
    }
   ],
   "source": [
    "# Non Linear Functions\n",
    "import matplotlib.pyplot as plt\n",
    "import numpy as np\n",
    "\n",
    "def f(x):\n",
    "  return 2 * x ** 2 # 2x^2, 2 x power 2 which is not linear\n",
    "\n",
    "x = np.array(range(5))\n",
    "y = f(x)\n",
    "\n",
    "print(x)\n",
    "print(y)\n",
    "\n",
    "plt.plot(x,y)\n",
    "plt.show()"
   ]
  },
  {
   "cell_type": "code",
   "execution_count": 4,
   "id": "f95b5bc6",
   "metadata": {},
   "outputs": [
    {
     "name": "stdout",
     "output_type": "stream",
     "text": [
      "Slope of the line 0 and 1: 2.0\n",
      "Slope of the line 1 and 2: 6.0\n",
      "Slope of the line 0 and 2: 4.0\n"
     ]
    }
   ],
   "source": [
    "slope = ((y[1]-y[0]) / (x[1]-x[0]))\n",
    "print(\"Slope of the line 0 and 1:\",slope)\n",
    "\n",
    "slope = ((y[2]-y[1]) / (x[2]-x[1]))\n",
    "print(\"Slope of the line 1 and 2:\",slope)\n",
    "\n",
    "slope = ((y[2]-y[0]) / (x[2]-x[0]))\n",
    "print(\"Slope of the line 0 and 2:\",slope)\n",
    "\n",
    "# Inference :\n",
    "# Slope is not same for Non Linear Functions"
   ]
  },
  {
   "cell_type": "markdown",
   "id": "3e36f820",
   "metadata": {},
   "source": [
    "**How might we measure the impact that x has on y in this nonlinear function?**\n",
    "\n",
    "- Calculus proposes that we measure the slope of the tangent line at x (for a specific input value to the function), giving us the instantaneous slope (slope at this point), which is the derivative.\n",
    "- The tangent line is created by drawing a line between two points that are “infinitely close” on a curve, but this curve has to be differentiable at the derivation point.\n",
    "- This means that it has to be continuous and smooth (we cannot calculate the slope at something that we could describe as a “sharp corner,” since it contains an infinite number of slopes).\n",
    "- Then, because this is a curve, there is no single slope.\n",
    "- Slope depends on where we measure it.\n",
    "\n",
    "To give an immediate example, we can approximate a derivative of the function at x by using this point and another one also taken at x, but with a very small delta added to it, such as 0.0001.\n",
    "\n",
    "- This number is a common choice as it does not introduce too large an error (when estimating the derivative) or cause the whole expression to be numerically unstable (x might round to 0 due to floating-point number resolution). \n",
    "- This lets us perform the same calculation for the slope as before, but on two points that are very close to each other, resulting in a good approximation of a slope at x:"
   ]
  },
  {
   "cell_type": "code",
   "execution_count": null,
   "id": "30cfaec6",
   "metadata": {},
   "outputs": [],
   "source": []
  }
 ],
 "metadata": {
  "kernelspec": {
   "display_name": "Python 3 (ipykernel)",
   "language": "python",
   "name": "python3"
  },
  "language_info": {
   "codemirror_mode": {
    "name": "ipython",
    "version": 3
   },
   "file_extension": ".py",
   "mimetype": "text/x-python",
   "name": "python",
   "nbconvert_exporter": "python",
   "pygments_lexer": "ipython3",
   "version": "3.9.7"
  }
 },
 "nbformat": 4,
 "nbformat_minor": 5
}
